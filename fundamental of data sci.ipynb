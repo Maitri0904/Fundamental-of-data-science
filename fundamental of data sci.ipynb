{
 "cells": [
  {
   "cell_type": "code",
   "execution_count": 2,
   "id": "feb2d4d3-e32d-4f78-ba79-d9588d3eca43",
   "metadata": {},
   "outputs": [
    {
     "name": "stdout",
     "output_type": "stream",
     "text": [
      "2401\n"
     ]
    }
   ],
   "source": [
    "#1. What is 7 to the power of \n",
    "print(7**4)"
   ]
  },
  {
   "cell_type": "code",
   "execution_count": 3,
   "id": "2e652a79-1742-46df-b1c9-f9646eba3767",
   "metadata": {},
   "outputs": [
    {
     "data": {
      "text/plain": [
       "['Hi', 'there', 'Sam!']"
      ]
     },
     "execution_count": 3,
     "metadata": {},
     "output_type": "execute_result"
    }
   ],
   "source": [
    "#2. Split this string:\n",
    "s = \"Hi there Sam!\"\n",
    "s.split()"
   ]
  },
  {
   "cell_type": "code",
   "execution_count": 4,
   "id": "b88f3bb2-0f19-4e45-9c7f-36f90ccee5c5",
   "metadata": {},
   "outputs": [
    {
     "name": "stdout",
     "output_type": "stream",
     "text": [
      "The diameter of Earth is 12742 kilometers\n"
     ]
    }
   ],
   "source": [
    "#3. Given the variables: planet = \"Earth\" diameter = 1274 Use .format() to print the following string:  The diameter of Earth is 12742 kilometers.\n",
    "planet = \"Earth\"\n",
    "diameter = 12742\n",
    "print(\"The diameter of {p} is {d} kilometers\".format(p=planet,d=diameter))"
   ]
  },
  {
   "cell_type": "code",
   "execution_count": 5,
   "id": "4011f495-a6e9-486c-9398-76abc2ff25c5",
   "metadata": {},
   "outputs": [],
   "source": [
    "# 4. Given this nested list, use indexing to grab the word \"hello” lst = [1,2,[3,4],[5,[100,200,['hello']],23,11],1,7]\n",
    "lst = [1,2,[3,4],[5,[100,200,['hello']],23,11],1,7]"
   ]
  },
  {
   "cell_type": "code",
   "execution_count": 6,
   "id": "4203a277-9c50-4056-a15a-be5b6d3b66ab",
   "metadata": {},
   "outputs": [
    {
     "data": {
      "text/plain": [
       "[5, [100, 200, ['hello']], 23, 11]"
      ]
     },
     "execution_count": 6,
     "metadata": {},
     "output_type": "execute_result"
    }
   ],
   "source": [
    "lst[3]"
   ]
  },
  {
   "cell_type": "code",
   "execution_count": 7,
   "id": "82e65468-26f8-44e8-b9eb-019b4feff8f7",
   "metadata": {},
   "outputs": [
    {
     "data": {
      "text/plain": [
       "[100, 200, ['hello']]"
      ]
     },
     "execution_count": 7,
     "metadata": {},
     "output_type": "execute_result"
    }
   ],
   "source": [
    "lst[3][1]"
   ]
  },
  {
   "cell_type": "code",
   "execution_count": 8,
   "id": "d631fec8-ed88-4795-803b-386103ae2390",
   "metadata": {},
   "outputs": [
    {
     "data": {
      "text/plain": [
       "['hello']"
      ]
     },
     "execution_count": 8,
     "metadata": {},
     "output_type": "execute_result"
    }
   ],
   "source": [
    "lst[3][1][2]"
   ]
  },
  {
   "cell_type": "code",
   "execution_count": 9,
   "id": "e6e15462-b62a-4f73-8d91-b29146642287",
   "metadata": {},
   "outputs": [
    {
     "data": {
      "text/plain": [
       "'hello'"
      ]
     },
     "execution_count": 9,
     "metadata": {},
     "output_type": "execute_result"
    }
   ],
   "source": [
    "lst[3][1][2][0]"
   ]
  },
  {
   "cell_type": "code",
   "execution_count": 10,
   "id": "1b5abf2a-6d77-49d7-8ef7-359d06353974",
   "metadata": {},
   "outputs": [
    {
     "name": "stdout",
     "output_type": "stream",
     "text": [
      "{'k1': [1, 2, 3, {'tricky': ['oh', 'man', 'inception', {'target': [1, 2, 3, 'hello']}]}]}\n"
     ]
    }
   ],
   "source": [
    "#5. Given this nested dictionary grab the word \"hello\". d = {'k1':[1,2,3,{'tricky':['oh','man','inception',{'target':[1,2,3,'hello']}]}]}\n",
    "d = {'k1':[1,2,3,{'tricky':['oh','man','inception',{'target':[1,2,3,'hello']}]}]}\n",
    "print(d)\n"
   ]
  },
  {
   "cell_type": "code",
   "execution_count": 11,
   "id": "46cb1005-f63c-49d2-9e06-54572de744d5",
   "metadata": {},
   "outputs": [
    {
     "data": {
      "text/plain": [
       "[1,\n",
       " 2,\n",
       " 3,\n",
       " {'tricky': ['oh', 'man', 'inception', {'target': [1, 2, 3, 'hello']}]}]"
      ]
     },
     "execution_count": 11,
     "metadata": {},
     "output_type": "execute_result"
    }
   ],
   "source": [
    "d['k1']"
   ]
  },
  {
   "cell_type": "code",
   "execution_count": 12,
   "id": "a235121f-8499-4990-be94-131b7197f9c3",
   "metadata": {},
   "outputs": [
    {
     "data": {
      "text/plain": [
       "{'tricky': ['oh', 'man', 'inception', {'target': [1, 2, 3, 'hello']}]}"
      ]
     },
     "execution_count": 12,
     "metadata": {},
     "output_type": "execute_result"
    }
   ],
   "source": [
    "d['k1'][3]"
   ]
  },
  {
   "cell_type": "code",
   "execution_count": 13,
   "id": "03cce8bf-0ab4-45f2-b046-faf0b44f276d",
   "metadata": {},
   "outputs": [
    {
     "data": {
      "text/plain": [
       "['oh', 'man', 'inception', {'target': [1, 2, 3, 'hello']}]"
      ]
     },
     "execution_count": 13,
     "metadata": {},
     "output_type": "execute_result"
    }
   ],
   "source": [
    "d['k1'][3]['tricky']\n"
   ]
  },
  {
   "cell_type": "code",
   "execution_count": 14,
   "id": "08d76fd8-ee70-41b7-96d8-59309436ee9d",
   "metadata": {},
   "outputs": [
    {
     "data": {
      "text/plain": [
       "{'target': [1, 2, 3, 'hello']}"
      ]
     },
     "execution_count": 14,
     "metadata": {},
     "output_type": "execute_result"
    }
   ],
   "source": [
    "d['k1'][3]['tricky'][3]"
   ]
  },
  {
   "cell_type": "code",
   "execution_count": 15,
   "id": "1ee83032-e9bd-43db-9bb4-ac6a4467ec66",
   "metadata": {},
   "outputs": [
    {
     "data": {
      "text/plain": [
       "[1, 2, 3, 'hello']"
      ]
     },
     "execution_count": 15,
     "metadata": {},
     "output_type": "execute_result"
    }
   ],
   "source": [
    "d['k1'][3]['tricky'][3]['target']"
   ]
  },
  {
   "cell_type": "code",
   "execution_count": 16,
   "id": "575cf9cb-ecef-4f9b-abb0-4eeb0c582e6c",
   "metadata": {},
   "outputs": [
    {
     "data": {
      "text/plain": [
       "'hello'"
      ]
     },
     "execution_count": 16,
     "metadata": {},
     "output_type": "execute_result"
    }
   ],
   "source": [
    "d['k1'][3]['tricky'][3]['target'][3]"
   ]
  },
  {
   "cell_type": "code",
   "execution_count": null,
   "id": "24eae5e4-09fa-48f8-9193-82e9661a5594",
   "metadata": {},
   "outputs": [],
   "source": [
    "#6. What is the main difference between a tuple and a list?\n",
    "\"Tupple is immutable\"\n",
    "'List is mutable'"
   ]
  },
  {
   "cell_type": "code",
   "execution_count": 23,
   "id": "9a6deb2d-2b0f-439e-b42b-14eeda6c1ca7",
   "metadata": {},
   "outputs": [
    {
     "name": "stdin",
     "output_type": "stream",
     "text": [
      "enter your email add : bapusatsang@gmail.com\n",
      "enter your email add :  mat.patel13@gmail.com\n"
     ]
    },
    {
     "data": {
      "text/plain": [
       "'gmail.com'"
      ]
     },
     "execution_count": 23,
     "metadata": {},
     "output_type": "execute_result"
    }
   ],
   "source": [
    "#7. Create a function that grabs the email website domain from a string in the form: ** user@domain.com\n",
    "def getDomain(s):\n",
    "    return s.split('@')[1]\n",
    "getDomain(input('enter your email add :'))\n",
    "\n",
    "#or \n",
    "email = input(\"enter your email add : \")\n",
    "email.split('@')[1]\n"
   ]
  },
  {
   "cell_type": "code",
   "execution_count": 24,
   "id": "51e819d7-96bb-4265-923d-4ddd2203d4ea",
   "metadata": {},
   "outputs": [
    {
     "data": {
      "text/plain": [
       "True"
      ]
     },
     "execution_count": 24,
     "metadata": {},
     "output_type": "execute_result"
    }
   ],
   "source": [
    "#8. Create a basic function that returns True if the word 'dog' is contained in the input string. Don't \n",
    "#worry about edge cases like a punctuation being attached to the word dog, but do account for \n",
    "#capitalization. : findDog('Is there a dog here?')\n",
    "def findDog(s):\n",
    "    return \"dog\" in s.lower()\n",
    "findDog(\"Is there any Dog there ?\")\n"
   ]
  },
  {
   "cell_type": "code",
   "execution_count": 25,
   "id": "ff1f5c5c-6550-419e-960a-50b205904995",
   "metadata": {},
   "outputs": [
    {
     "data": {
      "text/plain": [
       "['soup', 'salad']"
      ]
     },
     "execution_count": 25,
     "metadata": {},
     "output_type": "execute_result"
    }
   ],
   "source": [
    "#9. Use lambda expressions and the filter() function to filter out words from a list that don't start \n",
    "#with the letter 's'. For example:** seq = ['soup','dog','salad','cat','great']\n",
    "seq = ['soup','dog','salad','cat','great']\n",
    "list(filter(lambda s: s[0]=='s',seq))\n"
   ]
  },
  {
   "cell_type": "code",
   "execution_count": 27,
   "id": "1581ed02-5857-42fa-b18d-1211a5db1f4f",
   "metadata": {},
   "outputs": [
    {
     "data": {
      "text/plain": [
       "'Small Ticket'"
      ]
     },
     "execution_count": 27,
     "metadata": {},
     "output_type": "execute_result"
    }
   ],
   "source": [
    "#10. You are driving a little too fast, and a police officer stops you. Write a function to return one of \n",
    "#3 possible results: \"No ticket\", \"Small ticket\", or \"Big Ticket\". If your speed is 60 or less, the \n",
    "#result is \"No Ticket\". If speed is between 61 and 80 inclusive, the result is \"Small Ticket\". If \n",
    "#speed is 81 or more, the result is \"Big Ticket\". Unless it is your birthday (encoded as a boolean \n",
    "#value in the parameters of the function) -- on your birthday, your speed can be 5 higher in all  cases.\n",
    "def ticket(speed, birthday):\n",
    "    if birthday is True:\n",
    "        speed -= 5\n",
    "    if speed > 80:\n",
    "        return \"Big Ticket\"\n",
    "    elif speed >60:\n",
    "        return \"Small Ticket\"\n",
    "    else :\n",
    "        return \"No Ticket\"\n",
    "\n",
    "ticket(66, True)\n"
   ]
  },
  {
   "cell_type": "code",
   "execution_count": 28,
   "id": "c0bef8ab-979c-41ae-9267-9f3c53ab018e",
   "metadata": {},
   "outputs": [
    {
     "data": {
      "text/plain": [
       "'Big Ticket'"
      ]
     },
     "execution_count": 28,
     "metadata": {},
     "output_type": "execute_result"
    }
   ],
   "source": [
    "ticket(81, False)\n"
   ]
  },
  {
   "cell_type": "code",
   "execution_count": 28,
   "id": "ed21e463-cf37-4938-8e88-44f1645e60d0",
   "metadata": {},
   "outputs": [
    {
     "name": "stdin",
     "output_type": "stream",
     "text": [
      "enter the physics marks :  2\n",
      "enter the chemistry marks : 2\n",
      "enter the maths marks :  2\n"
     ]
    },
    {
     "name": "stdout",
     "output_type": "stream",
     "text": [
      "FAIL\n"
     ]
    }
   ],
   "source": [
    "#11. Write a program to input roll no, student name, marks of physics, chemistry and maths out of \n",
    "#100. (0-100). Calculate total, percentage, calculate STATUS (pass, fail) if students scores above \n",
    "#40 in all the 3 subjects the STATUS should be pass otherwise fail. Calculate GRADE if STATUS is pass.\n",
    "#Grade must be based on percentage value if percentage is above 70, then grade must be DISTINCTION if percentage is above 60, then grade must \n",
    "#be FIRST CLASS if percentage is above 50, then grade must be SECOND CLASS if percentage is above 40, then grade must be PASS CLASS\n",
    "\n",
    "def score(phy,chem,maths):\n",
    "    total = phy + chem + maths\n",
    "    percantage  =  total /3\n",
    "    if (phy > 40) & (chem > 40) & (maths > 40):\n",
    "        \n",
    "        print('pass')\n",
    "        if percantage > 70 :\n",
    "            return \"DISTINCTOIN\"\n",
    "        elif percantage > 60:\n",
    "            return \"FIRST CLASS\"\n",
    "        elif percantage > 50:\n",
    "            return \"SECOND CLASS\"\n",
    "        elif percantage > 40:\n",
    "            return \"PASS\"       \n",
    "            \n",
    "    else :\n",
    "        return \"FAIL\"\n",
    "\n",
    "## calling class\n",
    "phy = int(input(\"enter the physics marks : \"))\n",
    "chem = int(input('enter the chemistry marks :'))\n",
    "maths = int(input ('enter the maths marks : '))\n",
    "print(score(phy,chem,maths))"
   ]
  },
  {
   "cell_type": "code",
   "execution_count": null,
   "id": "e006ebdf-7532-4fe1-873e-59d7b0fbbd54",
   "metadata": {},
   "outputs": [],
   "source": [
    "empid = input('enter your empid : ')\n",
    "name = input('enter your name : ')\n",
    "basic = int(input('enter your basic salary : '))\n",
    "no_of_exp = int(input('enter your no of experience : '))\n",
    "\n",
    "# calculating \n",
    "hra = basic*0.35\n",
    "da = basic * 0.58\n",
    "pf = basic*0.095\n",
    "\n",
    "# bonus \n",
    "if no_of_exp >= 30:\n",
    "    bonus = basic*0.59    \n",
    "elif no_of_exp >= 23:\n",
    "   bonus = basic*0.51\n",
    "elif no_of_exp >= 15:\n",
    "    bonus = basic*0.45\n",
    "elif no_of_exp >= 7:\n",
    "    bonus = basic*0.3\n",
    "else:\n",
    "    bonus = basic*0.16\n",
    "\n",
    "net_salary = basic + da + hra - pf + bonus\n",
    "print(\"net salary : \",net_salary)"
   ]
  },
  {
   "cell_type": "code",
   "execution_count": null,
   "id": "550cf994-af50-488b-adb7-94aa27f85267",
   "metadata": {},
   "outputs": [],
   "source": [
    "#####    NUMPY    ##############"
   ]
  },
  {
   "cell_type": "code",
   "execution_count": 1,
   "id": "554f3c1b-4399-4837-afed-ca1538ff29a8",
   "metadata": {},
   "outputs": [],
   "source": [
    "import numpy as np"
   ]
  },
  {
   "cell_type": "code",
   "execution_count": 2,
   "id": "1fb23349-209a-4c63-9a9d-77de2d486f96",
   "metadata": {},
   "outputs": [
    {
     "name": "stdout",
     "output_type": "stream",
     "text": [
      "Note: you may need to restart the kernel to use updated packages.\n"
     ]
    },
    {
     "name": "stderr",
     "output_type": "stream",
     "text": [
      "ERROR: unknown command \"intstall\" - maybe you meant \"install\"\n",
      "\n"
     ]
    }
   ],
   "source": [
    "pip intstall numpy"
   ]
  },
  {
   "cell_type": "code",
   "execution_count": 5,
   "id": "ef3d2fdf-fbe3-4491-80b9-66249df9f750",
   "metadata": {},
   "outputs": [
    {
     "name": "stderr",
     "output_type": "stream",
     "text": [
      "C:\\Users\\P G Chopda\\AppData\\Local\\Programs\\Python\\Python312\\python.exe: can't open file 'D:\\\\Maitri folder\\\\jupyter notebook\\\\pip': [Errno 2] No such file or directory\n"
     ]
    }
   ],
   "source": [
    "!py pip install numpy"
   ]
  },
  {
   "cell_type": "code",
   "execution_count": 6,
   "id": "4967c7bb-792c-4fc7-8bcb-ee3054ad969b",
   "metadata": {},
   "outputs": [],
   "source": [
    "import numpy as np"
   ]
  },
  {
   "cell_type": "code",
   "execution_count": 8,
   "id": "0e8bbd66-0cdd-47b8-9b01-ecc0488e632f",
   "metadata": {},
   "outputs": [
    {
     "data": {
      "text/plain": [
       "array([ 0,  1,  2,  3,  4,  5,  6,  7,  8,  9, 10, 11, 12])"
      ]
     },
     "execution_count": 8,
     "metadata": {},
     "output_type": "execute_result"
    }
   ],
   "source": [
    "np.arange(0,13)"
   ]
  },
  {
   "cell_type": "code",
   "execution_count": 10,
   "id": "7b274ea9-b2cf-4e13-81f1-e676201f7381",
   "metadata": {},
   "outputs": [
    {
     "data": {
      "text/plain": [
       "'2.0.1'"
      ]
     },
     "execution_count": 10,
     "metadata": {},
     "output_type": "execute_result"
    }
   ],
   "source": [
    "np.__version__\n"
   ]
  },
  {
   "cell_type": "code",
   "execution_count": 11,
   "id": "e024dd45-3aae-4145-8146-3980dd18c9a3",
   "metadata": {},
   "outputs": [
    {
     "data": {
      "text/plain": [
       "array([1, 4, 2, 5, 3])"
      ]
     },
     "execution_count": 11,
     "metadata": {},
     "output_type": "execute_result"
    }
   ],
   "source": [
    "np.array([1, 4, 2, 5, 3])"
   ]
  },
  {
   "cell_type": "code",
   "execution_count": 12,
   "id": "6bd4323b-8ecb-4eca-aabf-e18cbbd839b4",
   "metadata": {},
   "outputs": [
    {
     "data": {
      "text/plain": [
       "array([0., 0., 0., 0., 0., 0., 0., 0., 0., 0.])"
      ]
     },
     "execution_count": 12,
     "metadata": {},
     "output_type": "execute_result"
    }
   ],
   "source": [
    "np.zeros(10)"
   ]
  },
  {
   "cell_type": "code",
   "execution_count": 17,
   "id": "cdebc242-068e-4c79-b9c2-a39eb105bdcd",
   "metadata": {},
   "outputs": [
    {
     "data": {
      "text/plain": [
       "array([1., 1., 1., 1., 1., 1., 1., 1., 1., 1.])"
      ]
     },
     "execution_count": 17,
     "metadata": {},
     "output_type": "execute_result"
    }
   ],
   "source": [
    "np.ones(10)"
   ]
  },
  {
   "cell_type": "code",
   "execution_count": 20,
   "id": "67454680-2f37-450b-8afc-2f5148490c4f",
   "metadata": {},
   "outputs": [
    {
     "data": {
      "text/plain": [
       "array([[3.14, 3.14, 3.14, 3.14, 3.14],\n",
       "       [3.14, 3.14, 3.14, 3.14, 3.14],\n",
       "       [3.14, 3.14, 3.14, 3.14, 3.14]])"
      ]
     },
     "execution_count": 20,
     "metadata": {},
     "output_type": "execute_result"
    }
   ],
   "source": [
    "np.full((3, 5), 3.14)"
   ]
  },
  {
   "cell_type": "code",
   "execution_count": 23,
   "id": "ae258292-2d8b-49f9-97e6-c4c3664b5a31",
   "metadata": {},
   "outputs": [
    {
     "data": {
      "text/plain": [
       "array([ 0,  2,  4,  6,  8, 10, 12, 14, 16, 18])"
      ]
     },
     "execution_count": 23,
     "metadata": {},
     "output_type": "execute_result"
    }
   ],
   "source": [
    "np.arange(0, 20, 2)"
   ]
  },
  {
   "cell_type": "code",
   "execution_count": 24,
   "id": "d742ad25-9547-4b78-a990-2e8d65771e01",
   "metadata": {},
   "outputs": [
    {
     "data": {
      "text/plain": [
       "array([ 0,  4,  8, 12, 16, 20, 24, 28, 32, 36, 40, 44, 48, 52, 56, 60, 64,\n",
       "       68, 72, 76, 80, 84, 88, 92, 96])"
      ]
     },
     "execution_count": 24,
     "metadata": {},
     "output_type": "execute_result"
    }
   ],
   "source": [
    "np.arange(0,100,4)"
   ]
  },
  {
   "cell_type": "code",
   "execution_count": 25,
   "id": "58121ae5-d5b3-485f-a28a-768df99a1bba",
   "metadata": {},
   "outputs": [
    {
     "data": {
      "text/plain": [
       "array([-78, -77, -76, -75, -74, -73, -72, -71, -70, -69, -68, -67, -66,\n",
       "       -65, -64, -63, -62, -61, -60, -59, -58, -57, -56, -55, -54, -53,\n",
       "       -52, -51, -50, -49, -48, -47, -46, -45, -44, -43, -42, -41, -40,\n",
       "       -39, -38, -37, -36, -35, -34, -33, -32, -31, -30, -29, -28, -27,\n",
       "       -26, -25, -24, -23, -22, -21, -20, -19, -18, -17, -16, -15, -14,\n",
       "       -13, -12, -11, -10,  -9,  -8,  -7,  -6,  -5,  -4,  -3,  -2,  -1,\n",
       "         0,   1,   2,   3,   4,   5,   6,   7,   8,   9,  10,  11,  12,\n",
       "        13,  14,  15,  16,  17,  18,  19,  20,  21,  22,  23,  24,  25,\n",
       "        26,  27,  28,  29,  30,  31,  32,  33,  34,  35,  36,  37,  38,\n",
       "        39,  40,  41,  42,  43,  44,  45,  46,  47,  48,  49,  50,  51,\n",
       "        52,  53,  54,  55,  56,  57,  58,  59,  60,  61,  62,  63,  64,\n",
       "        65,  66,  67,  68,  69,  70,  71,  72,  73,  74,  75,  76,  77])"
      ]
     },
     "execution_count": 25,
     "metadata": {},
     "output_type": "execute_result"
    }
   ],
   "source": [
    "np.arange(-78,78)"
   ]
  },
  {
   "cell_type": "code",
   "execution_count": 5,
   "id": "ba3944c1-9857-4e89-b834-54bf36f43704",
   "metadata": {},
   "outputs": [],
   "source": [
    "arr = np.arange(0,9).reshape(3,3)"
   ]
  },
  {
   "cell_type": "code",
   "execution_count": 6,
   "id": "a12b9684-a9e6-47c5-ba37-208df50628cc",
   "metadata": {},
   "outputs": [
    {
     "data": {
      "text/plain": [
       "array([[0, 1, 2],\n",
       "       [3, 4, 5],\n",
       "       [6, 7, 8]])"
      ]
     },
     "execution_count": 6,
     "metadata": {},
     "output_type": "execute_result"
    }
   ],
   "source": [
    "arr\n"
   ]
  },
  {
   "cell_type": "code",
   "execution_count": null,
   "id": "60879e4e-7ff4-4127-9ee9-e35dfe7b7ddd",
   "metadata": {},
   "outputs": [],
   "source": []
  }
 ],
 "metadata": {
  "kernelspec": {
   "display_name": "Python 3 (ipykernel)",
   "language": "python",
   "name": "python3"
  },
  "language_info": {
   "codemirror_mode": {
    "name": "ipython",
    "version": 3
   },
   "file_extension": ".py",
   "mimetype": "text/x-python",
   "name": "python",
   "nbconvert_exporter": "python",
   "pygments_lexer": "ipython3",
   "version": "3.12.4"
  }
 },
 "nbformat": 4,
 "nbformat_minor": 5
}
