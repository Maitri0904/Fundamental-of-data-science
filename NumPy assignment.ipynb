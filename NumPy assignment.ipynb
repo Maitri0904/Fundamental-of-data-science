{
 "cells": [
  {
   "cell_type": "markdown",
   "id": "b64b40ce-7698-4525-bb8d-45c1064cb8fa",
   "metadata": {},
   "source": [
    "# assignment 1\n"
   ]
  },
  {
   "cell_type": "code",
   "execution_count": 37,
   "id": "e1f85bf0-304d-4bc2-a64c-e4d3697bf3e1",
   "metadata": {},
   "outputs": [],
   "source": [
    "import numpy as np"
   ]
  },
  {
   "cell_type": "code",
   "execution_count": 38,
   "id": "754241a8-a721-4637-aacd-09f9edf96fb9",
   "metadata": {},
   "outputs": [
    {
     "data": {
      "text/plain": [
       "array([0, 1, 2, 3, 4])"
      ]
     },
     "execution_count": 38,
     "metadata": {},
     "output_type": "execute_result"
    }
   ],
   "source": [
    "# 1. Create 1-D, 2-D and 3-D numpy array\n",
    "d1 = np.arange(0,5)\n",
    "d1"
   ]
  },
  {
   "cell_type": "code",
   "execution_count": 39,
   "id": "33fc46b7-5721-4850-b7d5-204c1c405087",
   "metadata": {},
   "outputs": [
    {
     "data": {
      "text/plain": [
       "array([[1, 2],\n",
       "       [3, 4]])"
      ]
     },
     "execution_count": 39,
     "metadata": {},
     "output_type": "execute_result"
    }
   ],
   "source": [
    "# 2D array\n",
    "d2 = np.arange(1,5).reshape(2,2) \n",
    "d2"
   ]
  },
  {
   "cell_type": "code",
   "execution_count": 40,
   "id": "6d05a6af-f826-497e-9c7b-779ef8290439",
   "metadata": {},
   "outputs": [
    {
     "data": {
      "text/plain": [
       "array([[0, 1, 2],\n",
       "       [3, 4, 5],\n",
       "       [6, 7, 8]])"
      ]
     },
     "execution_count": 40,
     "metadata": {},
     "output_type": "execute_result"
    }
   ],
   "source": [
    "# 3D array\n",
    "d3 = np.arange(0,9).reshape(3,3)\n",
    "d3"
   ]
  },
  {
   "cell_type": "code",
   "execution_count": 41,
   "id": "fbfe811f-ecc8-4b69-beb4-6189fc1e675c",
   "metadata": {},
   "outputs": [
    {
     "name": "stdout",
     "output_type": "stream",
     "text": [
      "<class 'numpy.ndarray'>\n",
      "<class 'numpy.ndarray'>\n",
      "<class 'numpy.ndarray'>\n"
     ]
    }
   ],
   "source": [
    "# 2. Print data type of array.\n",
    "print(type(d1))\n",
    "print(type(d2))\n",
    "print(type(d3))"
   ]
  },
  {
   "cell_type": "code",
   "execution_count": 42,
   "id": "bf548ec6-da36-4ca9-9b20-171e90523674",
   "metadata": {},
   "outputs": [
    {
     "data": {
      "text/plain": [
       "1"
      ]
     },
     "execution_count": 42,
     "metadata": {},
     "output_type": "execute_result"
    }
   ],
   "source": [
    "# 3. Print shape and dimensions of all the three different array.\n",
    "d1.ndim"
   ]
  },
  {
   "cell_type": "code",
   "execution_count": 43,
   "id": "49c66a93-4582-4d82-8eea-78845a8b2133",
   "metadata": {},
   "outputs": [
    {
     "data": {
      "text/plain": [
       "2"
      ]
     },
     "execution_count": 43,
     "metadata": {},
     "output_type": "execute_result"
    }
   ],
   "source": [
    "d2.ndim"
   ]
  },
  {
   "cell_type": "code",
   "execution_count": 44,
   "id": "8073c733-17c9-4271-89f1-d14626b94785",
   "metadata": {},
   "outputs": [
    {
     "data": {
      "text/plain": [
       "2"
      ]
     },
     "execution_count": 44,
     "metadata": {},
     "output_type": "execute_result"
    }
   ],
   "source": [
    "d3.ndim"
   ]
  },
  {
   "cell_type": "code",
   "execution_count": 45,
   "id": "6846aaff-5798-43a5-a1f9-ff13a1c2a509",
   "metadata": {},
   "outputs": [
    {
     "data": {
      "text/plain": [
       "array([0., 0., 0., 0., 0., 0., 0., 0., 0., 0., 0., 0.])"
      ]
     },
     "execution_count": 45,
     "metadata": {},
     "output_type": "execute_result"
    }
   ],
   "source": [
    "# 4. Create another 1-D array of 12 elements filled with zero\n",
    "np.zeros(12)"
   ]
  },
  {
   "cell_type": "code",
   "execution_count": 46,
   "id": "01b4c2cf-9d87-44ba-91c5-58b97a3d6048",
   "metadata": {},
   "outputs": [
    {
     "data": {
      "text/plain": [
       "array([[1., 1.],\n",
       "       [1., 1.]])"
      ]
     },
     "execution_count": 46,
     "metadata": {},
     "output_type": "execute_result"
    }
   ],
   "source": [
    "# 5. Create another 2-D array elements filled with ones.\n",
    "\n",
    "np.ones(4).reshape(2,2)\n"
   ]
  },
  {
   "cell_type": "code",
   "execution_count": 47,
   "id": "a4309e93-531a-40ab-b77b-895681edfe29",
   "metadata": {},
   "outputs": [],
   "source": [
    "# 6. Create a 1-D array known as Maths Marks out of 100 having 20 elements.\n",
    "\n"
   ]
  },
  {
   "cell_type": "code",
   "execution_count": 48,
   "id": "61726a9d-e4c1-4578-be5f-a1af5a47117a",
   "metadata": {},
   "outputs": [],
   "source": [
    "# 7. Sort the above array in ascending and descending order.\n",
    "\n"
   ]
  },
  {
   "cell_type": "code",
   "execution_count": 49,
   "id": "57108b73-da81-4525-bd1f-a93d18519419",
   "metadata": {},
   "outputs": [
    {
     "data": {
      "text/plain": [
       "array([[0, 1, 2],\n",
       "       [3, 4, 5],\n",
       "       [6, 7, 8]])"
      ]
     },
     "execution_count": 49,
     "metadata": {},
     "output_type": "execute_result"
    }
   ],
   "source": [
    "# 8. Create a copy of sorted array to another variable by deep copying.\n",
    "a = np.arange(0,9).reshape(3,3)\n",
    "a"
   ]
  },
  {
   "cell_type": "code",
   "execution_count": 50,
   "id": "cc43d17e-9a9e-4f8f-b18b-612e8091baad",
   "metadata": {},
   "outputs": [
    {
     "data": {
      "text/plain": [
       "array([[0, 1],\n",
       "       [3, 4]])"
      ]
     },
     "execution_count": 50,
     "metadata": {},
     "output_type": "execute_result"
    }
   ],
   "source": [
    "da = a[:2,:2].copy()\n",
    "da"
   ]
  },
  {
   "cell_type": "code",
   "execution_count": 51,
   "id": "90fd327f-1bf1-4756-ba46-479072c39040",
   "metadata": {},
   "outputs": [
    {
     "data": {
      "text/plain": [
       "array([[1., 0., 0., 0., 0.],\n",
       "       [0., 1., 0., 0., 0.],\n",
       "       [0., 0., 1., 0., 0.],\n",
       "       [0., 0., 0., 1., 0.],\n",
       "       [0., 0., 0., 0., 1.]])"
      ]
     },
     "execution_count": 51,
     "metadata": {},
     "output_type": "execute_result"
    }
   ],
   "source": [
    "# 9. Create 2-D array of 5x5 which is an identify matrix and then convert to 1-D array.\n",
    "i = np.eye(5)\n",
    "i"
   ]
  },
  {
   "cell_type": "code",
   "execution_count": 52,
   "id": "3881d1f8-6bab-48e4-8985-204359516839",
   "metadata": {},
   "outputs": [
    {
     "data": {
      "text/plain": [
       "array([1., 0., 0., 0., 0., 0., 1., 0., 0., 0., 0., 0., 1., 0., 0., 0., 0.,\n",
       "       0., 1., 0., 0., 0., 0., 0., 1.])"
      ]
     },
     "execution_count": 52,
     "metadata": {},
     "output_type": "execute_result"
    }
   ],
   "source": [
    "i.ravel()"
   ]
  },
  {
   "cell_type": "code",
   "execution_count": 53,
   "id": "92a86aef-4fe4-46d1-8180-01a2f3b4ddf3",
   "metadata": {},
   "outputs": [],
   "source": [
    "# 10. Create 2-D array of 3x3. Add one more row to it."
   ]
  },
  {
   "cell_type": "code",
   "execution_count": 54,
   "id": "edf3ccb6-91e7-4d16-885f-1424395e7956",
   "metadata": {},
   "outputs": [],
   "source": [
    "# 11. Split above array created vertically and horizontally."
   ]
  },
  {
   "cell_type": "code",
   "execution_count": 55,
   "id": "6a2d1ece-63b2-4d0d-bb76-4dc7bb9b176f",
   "metadata": {},
   "outputs": [],
   "source": [
    "import numpy as np"
   ]
  },
  {
   "cell_type": "code",
   "execution_count": 56,
   "id": "261a724d-4eae-48d8-a7fe-fa94d4740ca2",
   "metadata": {},
   "outputs": [
    {
     "data": {
      "text/plain": [
       "array([[1., 0., 0., 0.],\n",
       "       [0., 1., 0., 0.],\n",
       "       [0., 0., 1., 0.],\n",
       "       [0., 0., 0., 1.]])"
      ]
     },
     "execution_count": 56,
     "metadata": {},
     "output_type": "execute_result"
    }
   ],
   "source": [
    "# 12. Create 4x4 identity matrix. Add 4 to each element.\n",
    "np.eye(4) \n"
   ]
  },
  {
   "cell_type": "code",
   "execution_count": 57,
   "id": "07a2968e-18f4-404c-b7c5-26d7a2dcc668",
   "metadata": {},
   "outputs": [],
   "source": [
    "# 13. Create 1-D array. Initialize with floating point values. Display its ceil, floor and \n",
    "#round (with 2 decimal's).\n",
    "\n"
   ]
  },
  {
   "cell_type": "code",
   "execution_count": 58,
   "id": "d86f241e-1433-42d1-b38c-27b6fea7fe00",
   "metadata": {},
   "outputs": [],
   "source": [
    "# 14. Create 5x5 matrix. Display min, max, variance and standard deviation column-wise."
   ]
  },
  {
   "cell_type": "code",
   "execution_count": 59,
   "id": "c446af70-60ea-48fb-9762-ae45f1d73149",
   "metadata": {},
   "outputs": [],
   "source": [
    "# 15. Create a null vector of size 10 with 6th value filled with 200."
   ]
  },
  {
   "cell_type": "code",
   "execution_count": 60,
   "id": "c8b98167-6f6f-473e-b0e5-1d85985a53a3",
   "metadata": {},
   "outputs": [],
   "source": [
    "# 16. Create a 1-D Array/Vector with values ranging from 100 to 150 in sequence."
   ]
  },
  {
   "cell_type": "code",
   "execution_count": 61,
   "id": "aabdd1bd-2389-4e1d-91d8-e683bdb4cd7d",
   "metadata": {},
   "outputs": [],
   "source": [
    "# 17. Reverse the above vector."
   ]
  },
  {
   "cell_type": "code",
   "execution_count": 62,
   "id": "582eb073-3797-490f-a768-e6b0868e999c",
   "metadata": {},
   "outputs": [
    {
     "data": {
      "text/plain": [
       "array([[ 0,  1,  2,  3,  4],\n",
       "       [ 5,  6,  7,  8,  9],\n",
       "       [10, 11, 12, 13, 14],\n",
       "       [15, 16, 17, 18, 19],\n",
       "       [20, 21, 22, 23, 24]])"
      ]
     },
     "execution_count": 62,
     "metadata": {},
     "output_type": "execute_result"
    }
   ],
   "source": [
    "# 18. Create a 5x5 matrix with values ranging from 0-24 using some function.\n",
    "np.arange(0,25).reshape(5,5)"
   ]
  },
  {
   "cell_type": "code",
   "execution_count": 63,
   "id": "5ee0a228-3ad0-4feb-8558-74817ff753f5",
   "metadata": {},
   "outputs": [],
   "source": [
    "# 19. Find indices of nonzero elements from [1,0,2,0,0,4,0,8]"
   ]
  },
  {
   "cell_type": "code",
   "execution_count": 64,
   "id": "e584ae2a-ab53-4af0-a76c-f631c7296c12",
   "metadata": {},
   "outputs": [
    {
     "data": {
      "text/plain": [
       "array([[1., 1., 1., 1., 1., 1., 1., 1., 1., 1.],\n",
       "       [1., 0., 0., 0., 0., 0., 0., 0., 0., 1.],\n",
       "       [1., 0., 0., 0., 0., 0., 0., 0., 0., 1.],\n",
       "       [1., 0., 0., 0., 0., 0., 0., 0., 0., 1.],\n",
       "       [1., 0., 0., 0., 0., 0., 0., 0., 0., 1.],\n",
       "       [1., 0., 0., 0., 0., 0., 0., 0., 0., 1.],\n",
       "       [1., 0., 0., 0., 0., 0., 0., 0., 0., 1.],\n",
       "       [1., 0., 0., 0., 0., 0., 0., 0., 0., 1.],\n",
       "       [1., 0., 0., 0., 0., 0., 0., 0., 0., 1.],\n",
       "       [1., 1., 1., 1., 1., 1., 1., 1., 1., 1.]])"
      ]
     },
     "execution_count": 64,
     "metadata": {},
     "output_type": "execute_result"
    }
   ],
   "source": [
    "# 20. Create a 10x10 matrix with 1 on the borders and 0 inside.\n",
    "m = np.ones([10,10])\n",
    "m[1:9,1:9] = 0\n",
    "m"
   ]
  },
  {
   "cell_type": "code",
   "execution_count": 65,
   "id": "215cda95-93f0-4500-969c-34101ba532a4",
   "metadata": {},
   "outputs": [
    {
     "data": {
      "text/plain": [
       "array([[1., 1., 1., 1., 1., 1., 1., 1.],\n",
       "       [1., 0., 0., 0., 0., 0., 0., 1.],\n",
       "       [1., 0., 0., 0., 0., 0., 0., 1.],\n",
       "       [1., 0., 0., 0., 0., 0., 0., 1.],\n",
       "       [1., 0., 0., 0., 0., 0., 0., 1.],\n",
       "       [1., 0., 0., 0., 0., 0., 0., 1.],\n",
       "       [1., 0., 0., 0., 0., 0., 0., 1.],\n",
       "       [1., 1., 1., 1., 1., 1., 1., 1.]])"
      ]
     },
     "execution_count": 65,
     "metadata": {},
     "output_type": "execute_result"
    }
   ],
   "source": [
    "# 21. Create 8x8 matrix and fill with 1 and 0 in checkerboard pattern.\n",
    "n = np.ones([8,8])\n",
    "n\n",
    "n[1:7,1:7] = 0\n",
    "n"
   ]
  },
  {
   "cell_type": "code",
   "execution_count": 66,
   "id": "bff203ea-6b6e-4502-b2ee-7314b7521e0c",
   "metadata": {},
   "outputs": [
    {
     "data": {
      "text/plain": [
       "array([[1., 1., 1., 1., 1., 1., 1., 1.],\n",
       "       [1., 0., 0., 0., 0., 0., 0., 1.],\n",
       "       [1., 0., 1., 1., 1., 1., 0., 1.],\n",
       "       [1., 0., 1., 0., 0., 1., 0., 1.],\n",
       "       [1., 0., 1., 0., 0., 1., 0., 1.],\n",
       "       [1., 0., 1., 1., 1., 1., 0., 1.],\n",
       "       [1., 0., 0., 0., 0., 0., 0., 1.],\n",
       "       [1., 1., 1., 1., 1., 1., 1., 1.]])"
      ]
     },
     "execution_count": 66,
     "metadata": {},
     "output_type": "execute_result"
    }
   ],
   "source": [
    "n[2:6,2:6] =1\n",
    "n\n",
    "n[3:5,3:5] =0\n",
    "n"
   ]
  },
  {
   "cell_type": "code",
   "execution_count": 67,
   "id": "4a9ffb5e-2043-4491-916c-d030b3cb79b5",
   "metadata": {},
   "outputs": [],
   "source": [
    "#22. Create two 3x3 matrix with random integer values. Perform matrix addition, \n",
    "#multiplication and subtraction\n"
   ]
  },
  {
   "cell_type": "code",
   "execution_count": 78,
   "id": "1725dba0-d3fd-4f28-8f79-71f7f5efe9eb",
   "metadata": {},
   "outputs": [
    {
     "data": {
      "text/plain": [
       "array([[0, 1, 2],\n",
       "       [3, 4, 5],\n",
       "       [6, 7, 8]])"
      ]
     },
     "execution_count": 78,
     "metadata": {},
     "output_type": "execute_result"
    }
   ],
   "source": [
    "ar1 = np.arange(0,9).reshape(3,3)\n",
    "ar2 = np.arange(10,19).reshape(3,3)\n",
    "ar1\n"
   ]
  },
  {
   "cell_type": "code",
   "execution_count": 77,
   "id": "f81a2597-9d32-4c40-96f8-c210108443a2",
   "metadata": {},
   "outputs": [
    {
     "data": {
      "text/plain": [
       "array([[10, 11, 12],\n",
       "       [13, 14, 15],\n",
       "       [16, 17, 18]])"
      ]
     },
     "execution_count": 77,
     "metadata": {},
     "output_type": "execute_result"
    }
   ],
   "source": [
    "ar2"
   ]
  },
  {
   "cell_type": "code",
   "execution_count": 88,
   "id": "81d8d5e1-c71f-4d5c-9414-71a2a004287c",
   "metadata": {},
   "outputs": [
    {
     "data": {
      "text/plain": [
       "array([[10, 12, 14],\n",
       "       [16, 18, 20],\n",
       "       [22, 24, 26]])"
      ]
     },
     "execution_count": 88,
     "metadata": {},
     "output_type": "execute_result"
    }
   ],
   "source": [
    "# additon \n",
    "ar1 + ar2\n"
   ]
  },
  {
   "cell_type": "code",
   "execution_count": 89,
   "id": "02894fdc-c5c3-47e0-bfb3-a730d8f94420",
   "metadata": {},
   "outputs": [
    {
     "data": {
      "text/plain": [
       "array([[-10, -10, -10],\n",
       "       [-10, -10, -10],\n",
       "       [-10, -10, -10]])"
      ]
     },
     "execution_count": 89,
     "metadata": {},
     "output_type": "execute_result"
    }
   ],
   "source": [
    "#subtraction\n",
    "ar1-ar2"
   ]
  },
  {
   "cell_type": "code",
   "execution_count": 83,
   "id": "022acb50-4b9f-4c85-9e45-8d755a8e96f2",
   "metadata": {},
   "outputs": [
    {
     "data": {
      "text/plain": [
       "array([[ 45,  48,  51],\n",
       "       [162, 174, 186],\n",
       "       [279, 300, 321]])"
      ]
     },
     "execution_count": 83,
     "metadata": {},
     "output_type": "execute_result"
    }
   ],
   "source": [
    "#multiplicaiotn\n",
    "np.dot(ar1,ar2)"
   ]
  },
  {
   "cell_type": "code",
   "execution_count": null,
   "id": "0c693197-dfa7-43fa-944b-d8911edca504",
   "metadata": {},
   "outputs": [],
   "source": []
  }
 ],
 "metadata": {
  "kernelspec": {
   "display_name": "Python 3 (ipykernel)",
   "language": "python",
   "name": "python3"
  },
  "language_info": {
   "codemirror_mode": {
    "name": "ipython",
    "version": 3
   },
   "file_extension": ".py",
   "mimetype": "text/x-python",
   "name": "python",
   "nbconvert_exporter": "python",
   "pygments_lexer": "ipython3",
   "version": "3.12.4"
  }
 },
 "nbformat": 4,
 "nbformat_minor": 5
}
