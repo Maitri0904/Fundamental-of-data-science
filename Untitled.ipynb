{
 "cells": [
  {
   "cell_type": "code",
   "execution_count": 1,
   "id": "66b19583-139b-4d60-aec3-8981033df24f",
   "metadata": {},
   "outputs": [],
   "source": [
    "import numpy as np"
   ]
  },
  {
   "cell_type": "code",
   "execution_count": 14,
   "id": "587ae268-e75d-4a66-be55-6904919e3329",
   "metadata": {},
   "outputs": [
    {
     "data": {
      "text/plain": [
       "array([[0.19795598, 0.03537219, 0.19024872, 0.36922913, 0.60497038],\n",
       "       [0.47199175, 0.32273573, 0.23712806, 0.88982062, 0.11200367],\n",
       "       [0.05564816, 0.28434913, 0.58068255, 0.03513917, 0.55195488],\n",
       "       [0.43805252, 0.05877718, 0.72269498, 0.67784855, 0.41918198],\n",
       "       [0.74384033, 0.16616802, 0.82177089, 0.67013213, 0.49644208]])"
      ]
     },
     "execution_count": 14,
     "metadata": {},
     "output_type": "execute_result"
    }
   ],
   "source": [
    "a = np.random.random(25).reshape(5,5)\n",
    "a"
   ]
  },
  {
   "cell_type": "code",
   "execution_count": 15,
   "id": "9e4b5ff0-2ee3-4a71-91aa-640cbb182631",
   "metadata": {},
   "outputs": [
    {
     "data": {
      "text/plain": [
       "array([1, 2, 3, 4, 5])"
      ]
     },
     "execution_count": 15,
     "metadata": {},
     "output_type": "execute_result"
    }
   ],
   "source": [
    "new_row = np.array([1,2,3,4,5])\n",
    "new_row"
   ]
  },
  {
   "cell_type": "code",
   "execution_count": 16,
   "id": "cd16d893-9468-405e-b3b5-4e85e1e3013d",
   "metadata": {},
   "outputs": [
    {
     "data": {
      "text/plain": [
       "array([[0.19795598, 0.03537219, 0.19024872, 0.36922913, 0.60497038],\n",
       "       [0.47199175, 0.32273573, 0.23712806, 0.88982062, 0.11200367],\n",
       "       [0.05564816, 0.28434913, 0.58068255, 0.03513917, 0.55195488],\n",
       "       [0.43805252, 0.05877718, 0.72269498, 0.67784855, 0.41918198],\n",
       "       [0.74384033, 0.16616802, 0.82177089, 0.67013213, 0.49644208],\n",
       "       [1.        , 2.        , 3.        , 4.        , 5.        ]])"
      ]
     },
     "execution_count": 16,
     "metadata": {},
     "output_type": "execute_result"
    }
   ],
   "source": [
    "\n",
    "s = np.vstack([a,new_row])\n",
    "s"
   ]
  },
  {
   "cell_type": "code",
   "execution_count": 18,
   "id": "755cb33e-323a-4d5a-9be0-e5ce048d62e9",
   "metadata": {},
   "outputs": [
    {
     "data": {
      "text/plain": [
       "[array([[0.19795598, 0.03537219, 0.19024872, 0.36922913, 0.60497038],\n",
       "        [0.47199175, 0.32273573, 0.23712806, 0.88982062, 0.11200367]]),\n",
       " array([[0.05564816, 0.28434913, 0.58068255, 0.03513917, 0.55195488],\n",
       "        [0.43805252, 0.05877718, 0.72269498, 0.67784855, 0.41918198]]),\n",
       " array([[0.74384033, 0.16616802, 0.82177089, 0.67013213, 0.49644208],\n",
       "        [1.        , 2.        , 3.        , 4.        , 5.        ]])]"
      ]
     },
     "execution_count": 18,
     "metadata": {},
     "output_type": "execute_result"
    }
   ],
   "source": [
    "h = np.vsplit(s,3)\n",
    "h"
   ]
  },
  {
   "cell_type": "code",
   "execution_count": null,
   "id": "54358f54-035f-4e4d-af60-b0a163036cbc",
   "metadata": {},
   "outputs": [],
   "source": []
  },
  {
   "cell_type": "code",
   "execution_count": null,
   "id": "d337443e-adf2-4397-909b-56f90c472932",
   "metadata": {},
   "outputs": [],
   "source": []
  }
 ],
 "metadata": {
  "kernelspec": {
   "display_name": "Python 3 (ipykernel)",
   "language": "python",
   "name": "python3"
  },
  "language_info": {
   "codemirror_mode": {
    "name": "ipython",
    "version": 3
   },
   "file_extension": ".py",
   "mimetype": "text/x-python",
   "name": "python",
   "nbconvert_exporter": "python",
   "pygments_lexer": "ipython3",
   "version": "3.12.4"
  }
 },
 "nbformat": 4,
 "nbformat_minor": 5
}
