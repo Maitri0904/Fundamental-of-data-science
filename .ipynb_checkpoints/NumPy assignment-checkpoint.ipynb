{
 "cells": [
  {
   "cell_type": "markdown",
   "id": "b64b40ce-7698-4525-bb8d-45c1064cb8fa",
   "metadata": {},
   "source": [
    "# assignment 1\n"
   ]
  },
  {
   "cell_type": "code",
   "execution_count": 1,
   "id": "e1f85bf0-304d-4bc2-a64c-e4d3697bf3e1",
   "metadata": {},
   "outputs": [],
   "source": [
    "import numpy as np"
   ]
  },
  {
   "cell_type": "code",
   "execution_count": 4,
   "id": "754241a8-a721-4637-aacd-09f9edf96fb9",
   "metadata": {},
   "outputs": [
    {
     "data": {
      "text/plain": [
       "array([0, 1, 2, 3, 4])"
      ]
     },
     "execution_count": 4,
     "metadata": {},
     "output_type": "execute_result"
    }
   ],
   "source": [
    "# 1. Create 1-D, 2-D and 3-D numpy array\n",
    "d1 = np.arange(0,5)\n",
    "d1"
   ]
  },
  {
   "cell_type": "code",
   "execution_count": 7,
   "id": "33fc46b7-5721-4850-b7d5-204c1c405087",
   "metadata": {},
   "outputs": [
    {
     "data": {
      "text/plain": [
       "array([[1, 2],\n",
       "       [3, 4]])"
      ]
     },
     "execution_count": 7,
     "metadata": {},
     "output_type": "execute_result"
    }
   ],
   "source": [
    "# 2D array\n",
    "d2 = np.arange(1,5).reshape(2,2) \n",
    "d2"
   ]
  },
  {
   "cell_type": "code",
   "execution_count": 8,
   "id": "6d05a6af-f826-497e-9c7b-779ef8290439",
   "metadata": {},
   "outputs": [
    {
     "data": {
      "text/plain": [
       "array([[0, 1, 2],\n",
       "       [3, 4, 5],\n",
       "       [6, 7, 8]])"
      ]
     },
     "execution_count": 8,
     "metadata": {},
     "output_type": "execute_result"
    }
   ],
   "source": [
    "# 3D array\n",
    "d3 = np.arange(0,9).reshape(3,3)\n",
    "d3"
   ]
  },
  {
   "cell_type": "code",
   "execution_count": 11,
   "id": "fbfe811f-ecc8-4b69-beb4-6189fc1e675c",
   "metadata": {},
   "outputs": [
    {
     "name": "stdout",
     "output_type": "stream",
     "text": [
      "<class 'numpy.ndarray'>\n",
      "<class 'numpy.ndarray'>\n",
      "<class 'numpy.ndarray'>\n"
     ]
    }
   ],
   "source": [
    "# 2. Print data type of array.\n",
    "print(type(d1))\n",
    "print(type(d2))\n",
    "print(type(d3))"
   ]
  },
  {
   "cell_type": "code",
   "execution_count": 16,
   "id": "bf548ec6-da36-4ca9-9b20-171e90523674",
   "metadata": {},
   "outputs": [
    {
     "data": {
      "text/plain": [
       "1"
      ]
     },
     "execution_count": 16,
     "metadata": {},
     "output_type": "execute_result"
    }
   ],
   "source": [
    "# 3. Print shape and dimensions of all the three different array.\n",
    "d1.ndim"
   ]
  },
  {
   "cell_type": "code",
   "execution_count": 14,
   "id": "49c66a93-4582-4d82-8eea-78845a8b2133",
   "metadata": {},
   "outputs": [
    {
     "data": {
      "text/plain": [
       "2"
      ]
     },
     "execution_count": 14,
     "metadata": {},
     "output_type": "execute_result"
    }
   ],
   "source": [
    "d2.ndim"
   ]
  },
  {
   "cell_type": "code",
   "execution_count": 15,
   "id": "8073c733-17c9-4271-89f1-d14626b94785",
   "metadata": {},
   "outputs": [
    {
     "data": {
      "text/plain": [
       "2"
      ]
     },
     "execution_count": 15,
     "metadata": {},
     "output_type": "execute_result"
    }
   ],
   "source": [
    "d3.ndim"
   ]
  },
  {
   "cell_type": "code",
   "execution_count": 17,
   "id": "6846aaff-5798-43a5-a1f9-ff13a1c2a509",
   "metadata": {},
   "outputs": [
    {
     "data": {
      "text/plain": [
       "array([0., 0., 0., 0., 0., 0., 0., 0., 0., 0., 0., 0.])"
      ]
     },
     "execution_count": 17,
     "metadata": {},
     "output_type": "execute_result"
    }
   ],
   "source": [
    "# 4. Create another 1-D array of 12 elements filled with zero\n",
    "np.zeros(12)"
   ]
  },
  {
   "cell_type": "code",
   "execution_count": 20,
   "id": "01b4c2cf-9d87-44ba-91c5-58b97a3d6048",
   "metadata": {},
   "outputs": [
    {
     "data": {
      "text/plain": [
       "array([[1., 1.],\n",
       "       [1., 1.]])"
      ]
     },
     "execution_count": 20,
     "metadata": {},
     "output_type": "execute_result"
    }
   ],
   "source": [
    "# 5. Create another 2-D array elements filled with ones.\n",
    "\n",
    "np.ones(4).reshape(2,2)\n"
   ]
  },
  {
   "cell_type": "code",
   "execution_count": null,
   "id": "a4309e93-531a-40ab-b77b-895681edfe29",
   "metadata": {},
   "outputs": [],
   "source": [
    "# 6. Create a 1-D array known as Maths Marks out of 100 having 20 elements.\n",
    "\n"
   ]
  },
  {
   "cell_type": "code",
   "execution_count": null,
   "id": "61726a9d-e4c1-4578-be5f-a1af5a47117a",
   "metadata": {},
   "outputs": [],
   "source": [
    "# 7. Sort the above array in ascending and descending order.\n",
    "\n"
   ]
  },
  {
   "cell_type": "code",
   "execution_count": 21,
   "id": "57108b73-da81-4525-bd1f-a93d18519419",
   "metadata": {},
   "outputs": [
    {
     "data": {
      "text/plain": [
       "array([[0, 1, 2],\n",
       "       [3, 4, 5],\n",
       "       [6, 7, 8]])"
      ]
     },
     "execution_count": 21,
     "metadata": {},
     "output_type": "execute_result"
    }
   ],
   "source": [
    "# 8. Create a copy of sorted array to another variable by deep copying.\n",
    "a = np.arange(0,9).reshape(3,3)\n",
    "a"
   ]
  },
  {
   "cell_type": "code",
   "execution_count": 23,
   "id": "cc43d17e-9a9e-4f8f-b18b-612e8091baad",
   "metadata": {},
   "outputs": [
    {
     "data": {
      "text/plain": [
       "array([[0, 1],\n",
       "       [3, 4]])"
      ]
     },
     "execution_count": 23,
     "metadata": {},
     "output_type": "execute_result"
    }
   ],
   "source": [
    "da = a[:2,:2].copy()\n",
    "da"
   ]
  },
  {
   "cell_type": "code",
   "execution_count": 39,
   "id": "90fd327f-1bf1-4756-ba46-479072c39040",
   "metadata": {},
   "outputs": [
    {
     "data": {
      "text/plain": [
       "array([[1., 0., 0., 0., 0.],\n",
       "       [0., 1., 0., 0., 0.],\n",
       "       [0., 0., 1., 0., 0.],\n",
       "       [0., 0., 0., 1., 0.],\n",
       "       [0., 0., 0., 0., 1.]])"
      ]
     },
     "execution_count": 39,
     "metadata": {},
     "output_type": "execute_result"
    }
   ],
   "source": [
    "# 9. Create 2-D array of 5x5 which is an identify matrix and then convert to 1-D array.\n",
    "i = np.eye(5)\n",
    "i"
   ]
  },
  {
   "cell_type": "code",
   "execution_count": 40,
   "id": "3881d1f8-6bab-48e4-8985-204359516839",
   "metadata": {},
   "outputs": [
    {
     "data": {
      "text/plain": [
       "array([1., 0., 0., 0., 0., 0., 1., 0., 0., 0., 0., 0., 1., 0., 0., 0., 0.,\n",
       "       0., 1., 0., 0., 0., 0., 0., 1.])"
      ]
     },
     "execution_count": 40,
     "metadata": {},
     "output_type": "execute_result"
    }
   ],
   "source": [
    "i.ravel()"
   ]
  },
  {
   "cell_type": "code",
   "execution_count": null,
   "id": "92a86aef-4fe4-46d1-8180-01a2f3b4ddf3",
   "metadata": {},
   "outputs": [],
   "source": [
    "# 10. Create 2-D array of 3x3. Add one more row to it."
   ]
  },
  {
   "cell_type": "code",
   "execution_count": null,
   "id": "edf3ccb6-91e7-4d16-885f-1424395e7956",
   "metadata": {},
   "outputs": [],
   "source": []
  }
 ],
 "metadata": {
  "kernelspec": {
   "display_name": "Python 3 (ipykernel)",
   "language": "python",
   "name": "python3"
  },
  "language_info": {
   "codemirror_mode": {
    "name": "ipython",
    "version": 3
   },
   "file_extension": ".py",
   "mimetype": "text/x-python",
   "name": "python",
   "nbconvert_exporter": "python",
   "pygments_lexer": "ipython3",
   "version": "3.12.4"
  }
 },
 "nbformat": 4,
 "nbformat_minor": 5
}
